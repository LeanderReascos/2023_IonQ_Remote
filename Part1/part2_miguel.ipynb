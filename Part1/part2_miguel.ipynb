{
 "cells": [
  {
   "cell_type": "code",
   "execution_count": 1,
   "metadata": {},
   "outputs": [],
   "source": [
    "import torch\n",
    "import torch.nn as nn\n",
    "import random\n",
    "from torch.utils.data.dataset import TensorDataset\n",
    "from torch.utils.data import DataLoader, Dataset\n",
    "from torch.optim import Adam\n",
    "import os\n",
    "import numpy as np\n",
    "import pandas as pd\n",
    "from os.path import join\n",
    "from typing import Optional\n",
    "from tqdm.notebook import tqdm\n",
    "from scipy.stats import wasserstein_distance \n",
    "from matplotlib import pyplot as plt\n",
    "import threading, concurrent\n",
    "import glob\n",
    "import numpy as np\n",
    "import matplotlib.pyplot as plt\n",
    "import sys\n",
    "from qiskit import QuantumCircuit, QuantumRegister\n",
    "from qiskit import Aer, execute"
   ]
  },
  {
   "attachments": {},
   "cell_type": "markdown",
   "metadata": {},
   "source": [
    "# Dataset"
   ]
  },
  {
   "cell_type": "code",
   "execution_count": 2,
   "metadata": {},
   "outputs": [],
   "source": [
    "\n",
    "sys.path.append('../')\n",
    "\n",
    "class DatasetImages(Dataset): #\n",
    "    def __init__(self, data_type: str = 'train'):\n",
    "        with open('../data/images.npy', 'rb') as f:\n",
    "            images = np.load(f)\n",
    "        with open('../data/labels.npy', 'rb') as f:\n",
    "            labels = np.load(f)\n",
    "\n",
    "        # Scale the images to be between 0 and 2pi TODO: Chcek\n",
    "        images = (images - images.min()) / (images.max() - images.min()) * 2 * np.pi\n",
    "\n",
    "        # Convert to numpy\n",
    "        images = np.array(images, dtype=np.float32)\n",
    "        labels = np.array(labels, dtype=np.float32)\n",
    "\n",
    "\n",
    "        # images shape must be (n_samples, -1)\n",
    "        #images = images.reshape(images.shape[0], -1)\n",
    "\n",
    "\n",
    "        # Split the data into train and validation\n",
    "        n_train = int(0.8 * len(images))\n",
    "        n_val = len(images) - n_train\n",
    "\n",
    "        if data_type == 'train':\n",
    "            images = images[:n_train]\n",
    "            labels = labels[:n_train]\n",
    "        elif data_type == 'val':\n",
    "            images = images[n_train:]\n",
    "            labels = labels[n_train:]\n",
    "\n",
    "        self.n_samples = len(images)\n",
    "        self.images = images\n",
    "        self.labels = labels\n",
    "\n",
    "\n",
    "        # Print shapes DEBUG\n",
    "        print(f\"Type: {data_type}\")\n",
    "        print(f\"Images shape: {self.images.shape}\")\n",
    "        print(f\"Labels shape: {self.labels.shape}\")\n",
    "\n",
    "\n",
    "\n",
    "    def __getitem__(self, index):\n",
    "        return torch.from_numpy(self.images)[index], torch.from_numpy(self.labels)[index]\n",
    "\n",
    "    def __len__(self):\n",
    "        return self.n_samples\n",
    "        \n",
    "    def all_items(self):\n",
    "        return torch.from_numpy(self.images), torch.from_numpy(self.labels)\n"
   ]
  },
  {
   "attachments": {},
   "cell_type": "markdown",
   "metadata": {},
   "source": [
    "## Testing out Part 1"
   ]
  },
  {
   "cell_type": "code",
   "execution_count": 3,
   "metadata": {},
   "outputs": [],
   "source": [
    "from part1 import run_part1"
   ]
  },
  {
   "cell_type": "code",
   "execution_count": 19,
   "metadata": {},
   "outputs": [
    {
     "name": "stdout",
     "output_type": "stream",
     "text": [
      "Type: train\n",
      "Images shape: (1600, 28, 28)\n",
      "Labels shape: (1600,)\n"
     ]
    }
   ],
   "source": [
    "dataset_train = DatasetImages('train')"
   ]
  },
  {
   "cell_type": "code",
   "execution_count": 5,
   "metadata": {},
   "outputs": [],
   "source": [
    "images, labels = dataset_train.all_items()"
   ]
  },
  {
   "cell_type": "code",
   "execution_count": 6,
   "metadata": {},
   "outputs": [
    {
     "data": {
      "text/plain": [
       "(28, 28)"
      ]
     },
     "execution_count": 6,
     "metadata": {},
     "output_type": "execute_result"
    }
   ],
   "source": [
    "image = images[0].numpy()\n",
    "image.shape"
   ]
  },
  {
   "cell_type": "code",
   "execution_count": 7,
   "metadata": {},
   "outputs": [],
   "source": [
    "circuit, image = run_part1(image)"
   ]
  },
  {
   "cell_type": "code",
   "execution_count": 8,
   "metadata": {},
   "outputs": [
    {
     "data": {
      "text/plain": [
       "<matplotlib.image.AxesImage at 0x7f220a95e110>"
      ]
     },
     "execution_count": 8,
     "metadata": {},
     "output_type": "execute_result"
    },
    {
     "data": {
      "image/png": "[encoded data removed]",
      "text/plain": [
       "<Figure size 640x480 with 1 Axes>"
      ]
     },
     "metadata": {},
     "output_type": "display_data"
    }
   ],
   "source": [
    "plt.imshow(image)"
   ]
  },
  {
   "cell_type": "code",
   "execution_count": 9,
   "metadata": {},
   "outputs": [
    {
     "data": {
      "text/html": [
       "<pre style=\"word-wrap: normal;white-space: pre;background: #fff0;line-height: 1.1;font-family: &quot;Courier New&quot;,Courier,monospace\">         ┌────────────┐ ┌─┐                                             \n",
       " q0_0: ──┤ Ry(1.0793) ├─┤M├─────────────────────────────────────────────\n",
       "         ├────────────┤ └╥┘┌─┐                                          \n",
       " q0_1: ──┤ Ry(2.7398) ├──╫─┤M├──────────────────────────────────────────\n",
       "         ├────────────┤  ║ └╥┘┌─┐                                       \n",
       " q0_2: ──┤ Ry(2.7099) ├──╫──╫─┤M├───────────────────────────────────────\n",
       "        ┌┴────────────┤  ║  ║ └╥┘┌─┐                                    \n",
       " q0_3: ─┤ Ry(0.98365) ├──╫──╫──╫─┤M├────────────────────────────────────\n",
       "        └┬────────────┤  ║  ║  ║ └╥┘┌─┐                                 \n",
       " q0_4: ──┤ Ry(1.2218) ├──╫──╫──╫──╫─┤M├─────────────────────────────────\n",
       "         ├────────────┤  ║  ║  ║  ║ └╥┘┌─┐                              \n",
       " q0_5: ──┤ Ry(2.3494) ├──╫──╫──╫──╫──╫─┤M├──────────────────────────────\n",
       "         ├────────────┤  ║  ║  ║  ║  ║ └╥┘┌─┐                           \n",
       " q0_6: ──┤ Ry(2.5069) ├──╫──╫──╫──╫──╫──╫─┤M├───────────────────────────\n",
       "         ├────────────┤  ║  ║  ║  ║  ║  ║ └╥┘┌─┐                        \n",
       " q0_7: ──┤ Ry(1.2337) ├──╫──╫──╫──╫──╫──╫──╫─┤M├────────────────────────\n",
       "       ┌─┴────────────┴┐ ║  ║  ║  ║  ║  ║  ║ └╥┘┌─┐                     \n",
       " q0_8: ┤ Ry(0.0039666) ├─╫──╫──╫──╫──╫──╫──╫──╫─┤M├─────────────────────\n",
       "       └─┬────────────┬┘ ║  ║  ║  ║  ║  ║  ║  ║ └╥┘┌─┐                  \n",
       " q0_9: ──┤ Ry(2.9362) ├──╫──╫──╫──╫──╫──╫──╫──╫──╫─┤M├──────────────────\n",
       "         ├────────────┤  ║  ║  ║  ║  ║  ║  ║  ║  ║ └╥┘┌─┐               \n",
       "q0_10: ──┤ Ry(3.0494) ├──╫──╫──╫──╫──╫──╫──╫──╫──╫──╫─┤M├───────────────\n",
       "       ┌─┴────────────┴┐ ║  ║  ║  ║  ║  ║  ║  ║  ║  ║ └╥┘┌─┐            \n",
       "q0_11: ┤ Ry(0.0035387) ├─╫──╫──╫──╫──╫──╫──╫──╫──╫──╫──╫─┤M├────────────\n",
       "       ├───────────────┤ ║  ║  ║  ║  ║  ║  ║  ║  ║  ║  ║ └╥┘┌─┐         \n",
       "q0_12: ┤ Ry(0.0048344) ├─╫──╫──╫──╫──╫──╫──╫──╫──╫──╫──╫──╫─┤M├─────────\n",
       "       └─┬────────────┬┘ ║  ║  ║  ║  ║  ║  ║  ║  ║  ║  ║  ║ └╥┘┌─┐      \n",
       "q0_13: ──┤ Ry(3.0203) ├──╫──╫──╫──╫──╫──╫──╫──╫──╫──╫──╫──╫──╫─┤M├──────\n",
       "         └─┬───────┬──┘  ║  ║  ║  ║  ║  ║  ║  ║  ║  ║  ║  ║  ║ └╥┘┌─┐   \n",
       "q0_14: ────┤ Ry(π) ├─────╫──╫──╫──╫──╫──╫──╫──╫──╫──╫──╫──╫──╫──╫─┤M├───\n",
       "       ┌───┴───────┴───┐ ║  ║  ║  ║  ║  ║  ║  ║  ║  ║  ║  ║  ║  ║ └╥┘┌─┐\n",
       "q0_15: ┤ Ry(0.0053292) ├─╫──╫──╫──╫──╫──╫──╫──╫──╫──╫──╫──╫──╫──╫──╫─┤M├\n",
       "       └───────────────┘ ║  ║  ║  ║  ║  ║  ║  ║  ║  ║  ║  ║  ║  ║  ║ └╥┘\n",
       "c0: 16/══════════════════╩══╩══╩══╩══╩══╩══╩══╩══╩══╩══╩══╩══╩══╩══╩══╩═\n",
       "                         0  1  2  3  4  5  6  7  8  9  10 11 12 13 14 15</pre>"
      ],
      "text/plain": [
       "         ┌────────────┐ ┌─┐                                             \n",
       " q0_0: ──┤ Ry(1.0793) ├─┤M├─────────────────────────────────────────────\n",
       "         ├────────────┤ └╥┘┌─┐                                          \n",
       " q0_1: ──┤ Ry(2.7398) ├──╫─┤M├──────────────────────────────────────────\n",
       "         ├────────────┤  ║ └╥┘┌─┐                                       \n",
       " q0_2: ──┤ Ry(2.7099) ├──╫──╫─┤M├───────────────────────────────────────\n",
       "        ┌┴────────────┤  ║  ║ └╥┘┌─┐                                    \n",
       " q0_3: ─┤ Ry(0.98365) ├──╫──╫──╫─┤M├────────────────────────────────────\n",
       "        └┬────────────┤  ║  ║  ║ └╥┘┌─┐                                 \n",
       " q0_4: ──┤ Ry(1.2218) ├──╫──╫──╫──╫─┤M├─────────────────────────────────\n",
       "         ├────────────┤  ║  ║  ║  ║ └╥┘┌─┐                              \n",
       " q0_5: ──┤ Ry(2.3494) ├──╫──╫──╫──╫──╫─┤M├──────────────────────────────\n",
       "         ├────────────┤  ║  ║  ║  ║  ║ └╥┘┌─┐                           \n",
       " q0_6: ──┤ Ry(2.5069) ├──╫──╫──╫──╫──╫──╫─┤M├───────────────────────────\n",
       "         ├────────────┤  ║  ║  ║  ║  ║  ║ └╥┘┌─┐                        \n",
       " q0_7: ──┤ Ry(1.2337) ├──╫──╫──╫──╫──╫──╫──╫─┤M├────────────────────────\n",
       "       ┌─┴────────────┴┐ ║  ║  ║  ║  ║  ║  ║ └╥┘┌─┐                     \n",
       " q0_8: ┤ Ry(0.0039666) ├─╫──╫──╫──╫──╫──╫──╫──╫─┤M├─────────────────────\n",
       "       └─┬────────────┬┘ ║  ║  ║  ║  ║  ║  ║  ║ └╥┘┌─┐                  \n",
       " q0_9: ──┤ Ry(2.9362) ├──╫──╫──╫──╫──╫──╫──╫──╫──╫─┤M├──────────────────\n",
       "         ├────────────┤  ║  ║  ║  ║  ║  ║  ║  ║  ║ └╥┘┌─┐               \n",
       "q0_10: ──┤ Ry(3.0494) ├──╫──╫──╫──╫──╫──╫──╫──╫──╫──╫─┤M├───────────────\n",
       "       ┌─┴────────────┴┐ ║  ║  ║  ║  ║  ║  ║  ║  ║  ║ └╥┘┌─┐            \n",
       "q0_11: ┤ Ry(0.0035387) ├─╫──╫──╫──╫──╫──╫──╫──╫──╫──╫──╫─┤M├────────────\n",
       "       ├───────────────┤ ║  ║  ║  ║  ║  ║  ║  ║  ║  ║  ║ └╥┘┌─┐         \n",
       "q0_12: ┤ Ry(0.0048344) ├─╫──╫──╫──╫──╫──╫──╫──╫──╫──╫──╫──╫─┤M├─────────\n",
       "       └─┬────────────┬┘ ║  ║  ║  ║  ║  ║  ║  ║  ║  ║  ║  ║ └╥┘┌─┐      \n",
       "q0_13: ──┤ Ry(3.0203) ├──╫──╫──╫──╫──╫──╫──╫──╫──╫──╫──╫──╫──╫─┤M├──────\n",
       "         └─┬───────┬──┘  ║  ║  ║  ║  ║  ║  ║  ║  ║  ║  ║  ║  ║ └╥┘┌─┐   \n",
       "q0_14: ────┤ Ry(π) ├─────╫──╫──╫──╫──╫──╫──╫──╫──╫──╫──╫──╫──╫──╫─┤M├───\n",
       "       ┌───┴───────┴───┐ ║  ║  ║  ║  ║  ║  ║  ║  ║  ║  ║  ║  ║  ║ └╥┘┌─┐\n",
       "q0_15: ┤ Ry(0.0053292) ├─╫──╫──╫──╫──╫──╫──╫──╫──╫──╫──╫──╫──╫──╫──╫─┤M├\n",
       "       └───────────────┘ ║  ║  ║  ║  ║  ║  ║  ║  ║  ║  ║  ║  ║  ║  ║ └╥┘\n",
       "c0: 16/══════════════════╩══╩══╩══╩══╩══╩══╩══╩══╩══╩══╩══╩══╩══╩══╩══╩═\n",
       "                         0  1  2  3  4  5  6  7  8  9  10 11 12 13 14 15"
      ]
     },
     "execution_count": 9,
     "metadata": {},
     "output_type": "execute_result"
    }
   ],
   "source": [
    "circuit.draw()"
   ]
  },
  {
   "attachments": {},
   "cell_type": "markdown",
   "metadata": {},
   "source": [
    "## VQC - Classifier"
   ]
  },
  {
   "cell_type": "code",
   "execution_count": 10,
   "metadata": {},
   "outputs": [
    {
     "data": {
      "text/html": [
       "<pre style=\"word-wrap: normal;white-space: pre;background: #fff0;line-height: 1.1;font-family: &quot;Courier New&quot;,Courier,monospace\">         ┌────────────┐ \n",
       " q0_0: ──┤ Ry(1.0793) ├─\n",
       "         ├────────────┤ \n",
       " q0_1: ──┤ Ry(2.7398) ├─\n",
       "         ├────────────┤ \n",
       " q0_2: ──┤ Ry(2.7099) ├─\n",
       "        ┌┴────────────┤ \n",
       " q0_3: ─┤ Ry(0.98365) ├─\n",
       "        └┬────────────┤ \n",
       " q0_4: ──┤ Ry(1.2218) ├─\n",
       "         ├────────────┤ \n",
       " q0_5: ──┤ Ry(2.3494) ├─\n",
       "         ├────────────┤ \n",
       " q0_6: ──┤ Ry(2.5069) ├─\n",
       "         ├────────────┤ \n",
       " q0_7: ──┤ Ry(1.2337) ├─\n",
       "       ┌─┴────────────┴┐\n",
       " q0_8: ┤ Ry(0.0039666) ├\n",
       "       └─┬────────────┬┘\n",
       " q0_9: ──┤ Ry(2.9362) ├─\n",
       "         ├────────────┤ \n",
       "q0_10: ──┤ Ry(3.0494) ├─\n",
       "       ┌─┴────────────┴┐\n",
       "q0_11: ┤ Ry(0.0035387) ├\n",
       "       ├───────────────┤\n",
       "q0_12: ┤ Ry(0.0048344) ├\n",
       "       └─┬────────────┬┘\n",
       "q0_13: ──┤ Ry(3.0203) ├─\n",
       "         └─┬───────┬──┘ \n",
       "q0_14: ────┤ Ry(π) ├────\n",
       "       ┌───┴───────┴───┐\n",
       "q0_15: ┤ Ry(0.0053292) ├\n",
       "       └───────────────┘</pre>"
      ],
      "text/plain": [
       "         ┌────────────┐ \n",
       " q0_0: ──┤ Ry(1.0793) ├─\n",
       "         ├────────────┤ \n",
       " q0_1: ──┤ Ry(2.7398) ├─\n",
       "         ├────────────┤ \n",
       " q0_2: ──┤ Ry(2.7099) ├─\n",
       "        ┌┴────────────┤ \n",
       " q0_3: ─┤ Ry(0.98365) ├─\n",
       "        └┬────────────┤ \n",
       " q0_4: ──┤ Ry(1.2218) ├─\n",
       "         ├────────────┤ \n",
       " q0_5: ──┤ Ry(2.3494) ├─\n",
       "         ├────────────┤ \n",
       " q0_6: ──┤ Ry(2.5069) ├─\n",
       "         ├────────────┤ \n",
       " q0_7: ──┤ Ry(1.2337) ├─\n",
       "       ┌─┴────────────┴┐\n",
       " q0_8: ┤ Ry(0.0039666) ├\n",
       "       └─┬────────────┬┘\n",
       " q0_9: ──┤ Ry(2.9362) ├─\n",
       "         ├────────────┤ \n",
       "q0_10: ──┤ Ry(3.0494) ├─\n",
       "       ┌─┴────────────┴┐\n",
       "q0_11: ┤ Ry(0.0035387) ├\n",
       "       ├───────────────┤\n",
       "q0_12: ┤ Ry(0.0048344) ├\n",
       "       └─┬────────────┬┘\n",
       "q0_13: ──┤ Ry(3.0203) ├─\n",
       "         └─┬───────┬──┘ \n",
       "q0_14: ────┤ Ry(π) ├────\n",
       "       ┌───┴───────┴───┐\n",
       "q0_15: ┤ Ry(0.0053292) ├\n",
       "       └───────────────┘"
      ]
     },
     "execution_count": 10,
     "metadata": {},
     "output_type": "execute_result"
    }
   ],
   "source": [
    "# Remove mesurements\n",
    "circuit = circuit.remove_final_measurements(inplace=False)\n",
    "circuit.draw()"
   ]
  },
  {
   "cell_type": "code",
   "execution_count": 11,
   "metadata": {},
   "outputs": [],
   "source": [
    "import numpy as np\n",
    "import matplotlib.pyplot as plt\n",
    "\n",
    "import torch\n",
    "from torch.autograd import Function\n",
    "import torch.optim as optim\n",
    "import torch.nn as nn\n",
    "import torch.nn.functional as F\n",
    "\n",
    "import qiskit\n",
    "from qiskit import transpile, assemble\n",
    "from qiskit.visualization import *"
   ]
  },
  {
   "cell_type": "code",
   "execution_count": 29,
   "metadata": {},
   "outputs": [],
   "source": [
    "qc = QuantumCircuit(2)"
   ]
  },
  {
   "cell_type": "code",
   "execution_count": null,
   "metadata": {},
   "outputs": [],
   "source": [
    "# Apply a rotation gate that has 3 parameters\n",
    "qc.rx(0.1, 0)\n",
    "qc.rx(0.2, 1)\n"
   ]
  },
  {
   "cell_type": "code",
   "execution_count": 30,
   "metadata": {},
   "outputs": [],
   "source": [
    "class VQC(nn.Module):\n",
    "    def __init__(self):\n",
    "        super().__init__()\n",
    "        self.num_qubits = 16\n",
    "        self.depth = 2\n",
    "        self.thetas = nn.Parameter(torch.zeros(self.num_qubits, self.depth, 3))\n",
    "        self.optimizer = torch.optim.Adam(self.parameters(), lr=0.001)\n",
    "\n",
    "    def forward(self, x):\n",
    "        qc = QuantumCircuit(self.num_qubits)\n",
    "\n",
    "        # Layers\n",
    "        for layer in range(self.depth):\n",
    "            for qubit in range(self.num_qubits):\n",
    "                qc.x(self.thetas[qubit, layer, 0], qubit)\n",
    "                qc.y(self.thetas[qubit, layer, 1], qubit)\n",
    "                qc.z(self.thetas[qubit, layer, 2], qubit)\n",
    "                \n",
    "            for control in range(self.num_qubits):\n",
    "                for target in range(control + 1, self.num_qubits):\n",
    "                    qc.cx(control, target)\n",
    "                    \n",
    "        qc = transpile(qc, optimization_level=3)\n",
    "        qc = assemble(qc, shots=1024)\n",
    "        result = execute(qc, backend=Aer.get_backend('qasm_simulator')).result()\n",
    "        prob = result.get_counts()\n",
    "        state = max(prob, key=prob.get)\n",
    "        binary = np.array([int(i) for i in state])\n",
    "\n",
    "        return binary\n",
    "\n",
    "    def fit(self, train_dataset, epochs):\n",
    "        for epoch in range(epochs):\n",
    "            print(f'Epoch {epoch + 1}/{epochs}')\n",
    "            for i, (x, y) in enumerate(train_dataset):\n",
    "                x = x #.to(device)\n",
    "                y = y #.to(device)\n",
    "\n",
    "                \n",
    "                binary = self.forward(x)\n",
    "                loss = F.mse_loss(binary, y)\n",
    "                self.optimizer.zero_grad()\n",
    "                loss.backward()\n",
    "                self.optimizer.step()\n",
    "                if (i + 1) % 10 == 0:\n",
    "                    print(f'Loss: {loss.item()}')\n"
   ]
  },
  {
   "cell_type": "code",
   "execution_count": 31,
   "metadata": {},
   "outputs": [],
   "source": [
    "vqc = VQC()"
   ]
  },
  {
   "cell_type": "code",
   "execution_count": null,
   "metadata": {},
   "outputs": [],
   "source": [
    "vqc.fit(train_dataset=dataset_train, epochs=10)"
   ]
  },
  {
   "cell_type": "code",
   "execution_count": null,
   "metadata": {},
   "outputs": [],
   "source": []
  }
 ],
 "metadata": {
  "kernelspec": {
   "display_name": "gpt",
   "language": "python",
   "name": "python3"
  },
  "language_info": {
   "codemirror_mode": {
    "name": "ipython",
    "version": 3
   },
   "file_extension": ".py",
   "mimetype": "text/x-python",
   "name": "python",
   "nbconvert_exporter": "python",
   "pygments_lexer": "ipython3",
   "version": "3.10.9 (main, Jan 11 2023, 15:21:40) [GCC 11.2.0]"
  },
  "orig_nbformat": 4,
  "vscode": {
   "interpreter": {
    "hash": "54c9b60a177fb8d855c2710df1c46810c8828f843e935d694d69ed541cb4eb14"
   }
  }
 },
 "nbformat": 4,
 "nbformat_minor": 2
}
