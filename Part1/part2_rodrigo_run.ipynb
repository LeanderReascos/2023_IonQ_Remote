{
 "cells": [
  {
   "cell_type": "code",
   "execution_count": 1,
   "metadata": {},
   "outputs": [],
   "source": [
    "import numpy as np\n",
    "import matplotlib.pyplot as plt\n",
    "import sys\n",
    "from qiskit import QuantumCircuit, ClassicalRegister, QuantumRegister, Aer, execute, transpile\n",
    "import tensorflow as tf\n",
    "import numpy as np\n",
    "from qiskit.circuit import Parameter, ParameterVector\n",
    "import qiskit\n",
    "from qiskit import quantum_info\n",
    "from qiskit.execute_function import execute\n",
    "from qiskit import BasicAer\n",
    "\n",
    "seed = 10599\n",
    "\n",
    "sys.path.append('../')"
   ]
  },
  {
   "cell_type": "code",
   "execution_count": 2,
   "metadata": {},
   "outputs": [],
   "source": [
    "from part2_rodrigo import VQC"
   ]
  },
  {
   "cell_type": "code",
   "execution_count": 223,
   "metadata": {},
   "outputs": [],
   "source": [
    "images=np.load('../data/images.npy')\n",
    "labels=np.load('../data/labels.npy')"
   ]
  },
  {
   "cell_type": "code",
   "execution_count": 4,
   "metadata": {},
   "outputs": [],
   "source": [
    "images_resized = np.resize(images, (2000,4,4))"
   ]
  },
  {
   "cell_type": "code",
   "execution_count": 6,
   "metadata": {},
   "outputs": [],
   "source": [
    "max_images = np.max(np.abs(images_resized))\n",
    "images_resized_normalized = images_resized/max_images"
   ]
  },
  {
   "cell_type": "code",
   "execution_count": 166,
   "metadata": {},
   "outputs": [],
   "source": [
    "def encoder_v2(image,threshold):\n",
    "    info_image = np.ndarray.flatten(image)\n",
    "    n_qubits = len(info_image)\n",
    "    q_register = QuantumRegister(n_qubits)\n",
    "    qc = QuantumCircuit(q_register, name='Encoder')\n",
    "    for i, pixel_value in enumerate(info_image):\n",
    "        if pixel_value>=threshold:\n",
    "            qc.x( q_register[i])\n",
    "    return qc"
   ]
  },
  {
   "cell_type": "code",
   "execution_count": 186,
   "metadata": {},
   "outputs": [],
   "source": [
    "n_layers = 1\n",
    "n_qubits = 16\n",
    "p = ParameterVector('$\\theta$',3*n_layers*n_qubits)\n",
    "my_vqc = VQC(n_layers,n_qubits,p)\n",
    "vqc_circuit = my_vqc.vqc()"
   ]
  },
  {
   "cell_type": "code",
   "execution_count": 10,
   "metadata": {},
   "outputs": [],
   "source": [
    "def execute_circuit(qc, shots=1024, device=None):\n",
    "    if device is None:\n",
    "        device = Aer.get_backend('qasm_simulator')\n",
    "    else:\n",
    "        device = device\n",
    "    \n",
    "    circ_trans = transpile(qc,device)\n",
    "    counts = device.run(circ_trans, shots=shots).result().get_counts()\n",
    "    \n",
    "    return counts"
   ]
  },
  {
   "cell_type": "code",
   "execution_count": 16,
   "metadata": {},
   "outputs": [],
   "source": [
    "def simulate(circuit: qiskit.QuantumCircuit) -> dict:\n",
    "    \"\"\"Simulate the circuit, give the state vector as the result.\"\"\"\n",
    "    backend = BasicAer.get_backend('statevector_simulator')\n",
    "    job = execute(circuit, backend)\n",
    "    result = job.result()\n",
    "    state_vector = result.get_statevector()\n",
    "    \n",
    "    histogram = dict()\n",
    "    for i in range(len(state_vector)):\n",
    "        population = abs(state_vector[i]) ** 2\n",
    "        if population > 1e-9:\n",
    "            histogram[i] = population\n",
    "    \n",
    "    return histogram"
   ]
  },
  {
   "cell_type": "code",
   "execution_count": 191,
   "metadata": {},
   "outputs": [],
   "source": [
    "def histogram_to_category(histogram):\n",
    "    \"\"\"This function take a histogram representations of circuit execution results, and process into labels as described in \n",
    "    the problem description.\"\"\"\n",
    "    assert abs(sum(histogram.values())-1)<1e-8\n",
    "    positive=0\n",
    "    for key in histogram.keys():\n",
    "        digits = bin(int(key))[2:].zfill(20)\n",
    "        if digits[-1]=='0':\n",
    "            positive+=histogram[key]\n",
    "    return positive"
   ]
  },
  {
   "cell_type": "code",
   "execution_count": 192,
   "metadata": {},
   "outputs": [],
   "source": [
    "from part1 import encoder"
   ]
  },
  {
   "cell_type": "code",
   "execution_count": 217,
   "metadata": {},
   "outputs": [],
   "source": [
    "def run_part2(image):\n",
    "\n",
    "    #load the quantum classifier circuit\n",
    "    classifier=vqc_circuit\n",
    "    \n",
    "    #encode image into circuit\n",
    "    circuit=encoder(image)\n",
    "    \n",
    "    #append with classifier circuit\n",
    "    qc = QuantumCircuit(16,16)\n",
    "    qc.compose(circuit)\n",
    "    qc.compose(classifier)\n",
    "    \n",
    "    #simulate circuit\n",
    "    histogram=simulate(qc)\n",
    "        \n",
    "    #convert histogram to category\n",
    "    label=histogram_to_category(histogram)\n",
    "        \n",
    "    return circuit,label"
   ]
  },
  {
   "cell_type": "code",
   "execution_count": 218,
   "metadata": {},
   "outputs": [],
   "source": [
    "from sklearn.metrics import mean_squared_error"
   ]
  },
  {
   "cell_type": "code",
   "execution_count": 219,
   "metadata": {},
   "outputs": [],
   "source": [
    "def loss(image,label,parameters):\n",
    "    circuit=encoder(image)\n",
    "    \n",
    "    #append with classifier circuit\n",
    "    qc = QuantumCircuit(16,16)\n",
    "    qc.compose(circuit)\n",
    "    qc.compose(vqc_circuit)\n",
    "    \n",
    "    #simulate circuit\n",
    "    histogram=simulate(qc)\n",
    "        \n",
    "    #convert histogram to category\n",
    "    predict = histogram_to_category(histogram)\n",
    "    #print(\"Prediction: \", predict)\n",
    "    #print(\"Label: \", label)\n",
    "    return (label-predict)**2"
   ]
  },
  {
   "cell_type": "code",
   "execution_count": 220,
   "metadata": {},
   "outputs": [],
   "source": [
    "def cost_function(images,labels,parameters):\n",
    "    cost = []\n",
    "    labels = [1.0 if labels[i] == True else 0.0 for i in range(len(labels))]\n",
    "    for i in range(len(images)):\n",
    "        cost.append(loss(images[i],labels[i],parameters))\n",
    "    return np.mean(cost)"
   ]
  },
  {
   "cell_type": "code",
   "execution_count": 224,
   "metadata": {},
   "outputs": [],
   "source": [
    "from sklearn.utils import shuffle\n",
    "images, labels = shuffle(images, labels)"
   ]
  },
  {
   "cell_type": "code",
   "execution_count": 225,
   "metadata": {},
   "outputs": [
    {
     "name": "stdout",
     "output_type": "stream",
     "text": [
      "cost for theta=[0.1776316  0.51501418 0.46746423 0.70512694 0.70536217 0.88028533\n",
      " 0.57288305 0.0892824  0.92320227 0.28973265 0.93172451 0.10692673\n",
      " 0.99270585 0.84773591 0.4712631  0.69230447 0.4127766  0.31565811\n",
      " 0.70822682 0.60018257 0.95855525 0.35587159 0.71789555 0.89542806\n",
      " 0.98674282 0.83397883 0.10703645 0.05247148 0.99702521 0.07420303\n",
      " 0.16643652 0.3116264  0.52050495 0.11864583 0.48824157 0.6800996\n",
      " 0.97008811 0.10586447 0.72432271 0.74505282 0.15516682 0.33511945\n",
      " 0.1658339  0.0497657  0.99184956 0.4255567  0.4564477  0.97702515] ----> 0.7\n"
     ]
    }
   ],
   "source": [
    "p = np.random.random(3*n_qubits*n_layers)\n",
    "dataset = images[0:10]\n",
    "correct_labels = labels[0:10]\n",
    "c = cost_function(dataset,correct_labels,p)\n",
    "print(\"cost for theta={} ----> {}\".format(p,c))"
   ]
  },
  {
   "cell_type": "code",
   "execution_count": 103,
   "metadata": {},
   "outputs": [
    {
     "name": "stderr",
     "output_type": "stream",
     "text": [
      "C:\\Users\\rodri\\AppData\\Local\\Temp\\ipykernel_24152\\148980149.py:20: DeprecationWarning: The SPSA.optimize method is deprecated as of Qiskit Terra 0.21.0 and will be removed no sooner than 3 months after the release date. Instead, use SPSA.minimize as a replacement, which supports the same arguments but follows the interface of scipy.optimize and returns a complete result object containing additional information.\n",
      "  ret = optimizer.optimize(num_vars=3*n_qubits*n_layers, objective_function=objective_function, initial_point=p)\n",
      "c:\\Users\\rodri\\AppData\\Local\\Programs\\Python\\Python310\\lib\\site-packages\\qiskit\\algorithms\\optimizers\\spsa.py:345: RuntimeWarning: divide by zero encountered in double_scalars\n",
      "  a = target_magnitude / avg_magnitudes\n",
      "c:\\Users\\rodri\\AppData\\Local\\Programs\\Python\\Python310\\lib\\site-packages\\qiskit\\algorithms\\optimizers\\spsa.py:565: RuntimeWarning: invalid value encountered in multiply\n",
      "  update = update * next(eta)\n"
     ]
    },
    {
     "name": "stdout",
     "output_type": "stream",
     "text": [
      "OPTIMIZATION COMPLETED! RESULT ---> (array([nan, nan, nan, nan, nan, nan, nan, nan, nan, nan, nan, nan, nan,\n",
      "       nan, nan, nan, nan, nan, nan, nan, nan, nan, nan, nan, nan, nan,\n",
      "       nan, nan, nan, nan, nan, nan, nan, nan, nan, nan, nan, nan, nan,\n",
      "       nan, nan, nan, nan, nan, nan, nan, nan, nan]), 0.84, 150)\n"
     ]
    }
   ],
   "source": [
    "from qiskit.algorithms.optimizers import COBYLA, ADAM, SPSA #...\n",
    "\n",
    "# Callback function for optimiser for plotting purposes\n",
    "def store_intermediate_result(evaluation, parameter, cost, \n",
    "                              stepsize, accept):\n",
    "    evaluations.append(evaluation)\n",
    "    parameters.append(parameter)\n",
    "    costs.append(cost)\n",
    "\n",
    "parameters = []\n",
    "costs = []\n",
    "evaluations = []\n",
    "\n",
    "optimizer = SPSA(maxiter=50,callback=store_intermediate_result)\n",
    "\n",
    "p = np.random.random(3*n_qubits*n_layers)\n",
    "\n",
    "objective_function = lambda p: cost_function(images[0:50],labels[0:50],p)\n",
    "                                              \n",
    "ret = optimizer.optimize(num_vars=3*n_qubits*n_layers, objective_function=objective_function, initial_point=p)\n",
    "\n",
    "print(\"OPTIMIZATION COMPLETED! RESULT ---> {}\".format(ret))"
   ]
  },
  {
   "cell_type": "code",
   "execution_count": null,
   "metadata": {},
   "outputs": [],
   "source": []
  }
 ],
 "metadata": {
  "kernelspec": {
   "display_name": "Python 3",
   "language": "python",
   "name": "python3"
  },
  "language_info": {
   "codemirror_mode": {
    "name": "ipython",
    "version": 3
   },
   "file_extension": ".py",
   "mimetype": "text/x-python",
   "name": "python",
   "nbconvert_exporter": "python",
   "pygments_lexer": "ipython3",
   "version": "3.10.6"
  },
  "orig_nbformat": 4,
  "vscode": {
   "interpreter": {
    "hash": "6e3977c52f5249dbc2a33b897faad1e0916758085298811edbd14ed6ad707d81"
   }
  }
 },
 "nbformat": 4,
 "nbformat_minor": 2
}
