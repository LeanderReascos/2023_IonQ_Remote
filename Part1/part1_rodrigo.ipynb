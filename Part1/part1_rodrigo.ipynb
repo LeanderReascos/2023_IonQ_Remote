{
 "cells": [
  {
   "cell_type": "code",
   "execution_count": 2,
   "metadata": {},
   "outputs": [],
   "source": [
    "%load_ext autoreload\n",
    "%autoreload 2"
   ]
  },
  {
   "cell_type": "code",
   "execution_count": 3,
   "metadata": {},
   "outputs": [],
   "source": [
    "import numpy as np\n",
    "import matplotlib.pyplot as plt\n",
    "import sys\n",
    "from qiskit import QuantumCircuit, ClassicalRegister, QuantumRegister, Aer, execute, transpile\n",
    "import tensorflow as tf\n",
    "\n",
    "sys.path.append('../')"
   ]
  },
  {
   "cell_type": "code",
   "execution_count": 70,
   "metadata": {},
   "outputs": [],
   "source": [
    "#load the actual hackthon data (fashion-mnist)\n",
    "images=np.load('../data/images.npy')\n",
    "labels=np.load('../data/labels.npy')"
   ]
  },
  {
   "cell_type": "code",
   "execution_count": 71,
   "metadata": {},
   "outputs": [],
   "source": [
    "images_resized = np.resize(images, (2000,4,4))"
   ]
  },
  {
   "cell_type": "code",
   "execution_count": 72,
   "metadata": {},
   "outputs": [],
   "source": [
    "max_images = np.max(np.abs(images_resized))\n",
    "images_resized_normalized = images_resized/max_images"
   ]
  },
  {
   "cell_type": "code",
   "execution_count": 73,
   "metadata": {},
   "outputs": [],
   "source": [
    "def encoder(image):\n",
    "    info_image = np.ndarray.flatten(image)\n",
    "    n_qubits = len(info_image)\n",
    "    q_register = QuantumRegister(n_qubits)\n",
    "    qc = QuantumCircuit(q_register, name='Encoder')\n",
    "    for i, pixel_value in enumerate(info_image):\n",
    "            qc.rx(2*np.pi*pixel_value, q_register[i])\n",
    "    return qc"
   ]
  },
  {
   "cell_type": "code",
   "execution_count": 84,
   "metadata": {},
   "outputs": [],
   "source": [
    "def encoder_v2(image,threshold):\n",
    "    info_image = np.ndarray.flatten(image)\n",
    "    n_qubits = len(info_image)\n",
    "    q_register = QuantumRegister(n_qubits)\n",
    "    qc = QuantumCircuit(q_register, name='Encoder')\n",
    "    for i, pixel_value in enumerate(info_image):\n",
    "        if pixel_value>=threshold:\n",
    "            qc.x( q_register[i])\n",
    "    return qc"
   ]
  },
  {
   "cell_type": "code",
   "execution_count": 85,
   "metadata": {},
   "outputs": [
    {
     "data": {
      "text/html": [
       "<pre style=\"word-wrap: normal;white-space: pre;background: #fff0;line-height: 1.1;font-family: &quot;Courier New&quot;,Courier,monospace\">             \n",
       " q34_0: ─────\n",
       "             \n",
       " q34_1: ─────\n",
       "             \n",
       " q34_2: ─────\n",
       "             \n",
       " q34_3: ─────\n",
       "             \n",
       " q34_4: ─────\n",
       "             \n",
       " q34_5: ─────\n",
       "        ┌───┐\n",
       " q34_6: ┤ X ├\n",
       "        ├───┤\n",
       " q34_7: ┤ X ├\n",
       "        ├───┤\n",
       " q34_8: ┤ X ├\n",
       "        ├───┤\n",
       " q34_9: ┤ X ├\n",
       "        ├───┤\n",
       "q34_10: ┤ X ├\n",
       "        ├───┤\n",
       "q34_11: ┤ X ├\n",
       "        ├───┤\n",
       "q34_12: ┤ X ├\n",
       "        ├───┤\n",
       "q34_13: ┤ X ├\n",
       "        └───┘\n",
       "q34_14: ─────\n",
       "             \n",
       "q34_15: ─────\n",
       "             </pre>"
      ],
      "text/plain": [
       "             \n",
       " q34_0: ─────\n",
       "             \n",
       " q34_1: ─────\n",
       "             \n",
       " q34_2: ─────\n",
       "             \n",
       " q34_3: ─────\n",
       "             \n",
       " q34_4: ─────\n",
       "             \n",
       " q34_5: ─────\n",
       "        ┌───┐\n",
       " q34_6: ┤ X ├\n",
       "        ├───┤\n",
       " q34_7: ┤ X ├\n",
       "        ├───┤\n",
       " q34_8: ┤ X ├\n",
       "        ├───┤\n",
       " q34_9: ┤ X ├\n",
       "        ├───┤\n",
       "q34_10: ┤ X ├\n",
       "        ├───┤\n",
       "q34_11: ┤ X ├\n",
       "        ├───┤\n",
       "q34_12: ┤ X ├\n",
       "        ├───┤\n",
       "q34_13: ┤ X ├\n",
       "        └───┘\n",
       "q34_14: ─────\n",
       "             \n",
       "q34_15: ─────\n",
       "             "
      ]
     },
     "execution_count": 85,
     "metadata": {},
     "output_type": "execute_result"
    }
   ],
   "source": [
    "circuit = encoder_v2(images_resized_normalized[100],0.5)\n",
    "circuit.draw()"
   ]
  },
  {
   "cell_type": "code",
   "execution_count": 86,
   "metadata": {},
   "outputs": [
    {
     "data": {
      "text/html": [
       "<pre style=\"word-wrap: normal;white-space: pre;background: #fff0;line-height: 1.1;font-family: &quot;Courier New&quot;,Courier,monospace\">               ░ ┌─┐                                             \n",
       "  q34_0: ──────░─┤M├─────────────────────────────────────────────\n",
       "               ░ └╥┘┌─┐                                          \n",
       "  q34_1: ──────░──╫─┤M├──────────────────────────────────────────\n",
       "               ░  ║ └╥┘┌─┐                                       \n",
       "  q34_2: ──────░──╫──╫─┤M├───────────────────────────────────────\n",
       "               ░  ║  ║ └╥┘┌─┐                                    \n",
       "  q34_3: ──────░──╫──╫──╫─┤M├────────────────────────────────────\n",
       "               ░  ║  ║  ║ └╥┘┌─┐                                 \n",
       "  q34_4: ──────░──╫──╫──╫──╫─┤M├─────────────────────────────────\n",
       "               ░  ║  ║  ║  ║ └╥┘┌─┐                              \n",
       "  q34_5: ──────░──╫──╫──╫──╫──╫─┤M├──────────────────────────────\n",
       "         ┌───┐ ░  ║  ║  ║  ║  ║ └╥┘┌─┐                           \n",
       "  q34_6: ┤ X ├─░──╫──╫──╫──╫──╫──╫─┤M├───────────────────────────\n",
       "         ├───┤ ░  ║  ║  ║  ║  ║  ║ └╥┘┌─┐                        \n",
       "  q34_7: ┤ X ├─░──╫──╫──╫──╫──╫──╫──╫─┤M├────────────────────────\n",
       "         ├───┤ ░  ║  ║  ║  ║  ║  ║  ║ └╥┘┌─┐                     \n",
       "  q34_8: ┤ X ├─░──╫──╫──╫──╫──╫──╫──╫──╫─┤M├─────────────────────\n",
       "         ├───┤ ░  ║  ║  ║  ║  ║  ║  ║  ║ └╥┘┌─┐                  \n",
       "  q34_9: ┤ X ├─░──╫──╫──╫──╫──╫──╫──╫──╫──╫─┤M├──────────────────\n",
       "         ├───┤ ░  ║  ║  ║  ║  ║  ║  ║  ║  ║ └╥┘┌─┐               \n",
       " q34_10: ┤ X ├─░──╫──╫──╫──╫──╫──╫──╫──╫──╫──╫─┤M├───────────────\n",
       "         ├───┤ ░  ║  ║  ║  ║  ║  ║  ║  ║  ║  ║ └╥┘┌─┐            \n",
       " q34_11: ┤ X ├─░──╫──╫──╫──╫──╫──╫──╫──╫──╫──╫──╫─┤M├────────────\n",
       "         ├───┤ ░  ║  ║  ║  ║  ║  ║  ║  ║  ║  ║  ║ └╥┘┌─┐         \n",
       " q34_12: ┤ X ├─░──╫──╫──╫──╫──╫──╫──╫──╫──╫──╫──╫──╫─┤M├─────────\n",
       "         ├───┤ ░  ║  ║  ║  ║  ║  ║  ║  ║  ║  ║  ║  ║ └╥┘┌─┐      \n",
       " q34_13: ┤ X ├─░──╫──╫──╫──╫──╫──╫──╫──╫──╫──╫──╫──╫──╫─┤M├──────\n",
       "         └───┘ ░  ║  ║  ║  ║  ║  ║  ║  ║  ║  ║  ║  ║  ║ └╥┘┌─┐   \n",
       " q34_14: ──────░──╫──╫──╫──╫──╫──╫──╫──╫──╫──╫──╫──╫──╫──╫─┤M├───\n",
       "               ░  ║  ║  ║  ║  ║  ║  ║  ║  ║  ║  ║  ║  ║  ║ └╥┘┌─┐\n",
       " q34_15: ──────░──╫──╫──╫──╫──╫──╫──╫──╫──╫──╫──╫──╫──╫──╫──╫─┤M├\n",
       "               ░  ║  ║  ║  ║  ║  ║  ║  ║  ║  ║  ║  ║  ║  ║  ║ └╥┘\n",
       "meas: 16/═════════╩══╩══╩══╩══╩══╩══╩══╩══╩══╩══╩══╩══╩══╩══╩══╩═\n",
       "                  0  1  2  3  4  5  6  7  8  9  10 11 12 13 14 15</pre>"
      ],
      "text/plain": [
       "               ░ ┌─┐                                             \n",
       "  q34_0: ──────░─┤M├─────────────────────────────────────────────\n",
       "               ░ └╥┘┌─┐                                          \n",
       "  q34_1: ──────░──╫─┤M├──────────────────────────────────────────\n",
       "               ░  ║ └╥┘┌─┐                                       \n",
       "  q34_2: ──────░──╫──╫─┤M├───────────────────────────────────────\n",
       "               ░  ║  ║ └╥┘┌─┐                                    \n",
       "  q34_3: ──────░──╫──╫──╫─┤M├────────────────────────────────────\n",
       "               ░  ║  ║  ║ └╥┘┌─┐                                 \n",
       "  q34_4: ──────░──╫──╫──╫──╫─┤M├─────────────────────────────────\n",
       "               ░  ║  ║  ║  ║ └╥┘┌─┐                              \n",
       "  q34_5: ──────░──╫──╫──╫──╫──╫─┤M├──────────────────────────────\n",
       "         ┌───┐ ░  ║  ║  ║  ║  ║ └╥┘┌─┐                           \n",
       "  q34_6: ┤ X ├─░──╫──╫──╫──╫──╫──╫─┤M├───────────────────────────\n",
       "         ├───┤ ░  ║  ║  ║  ║  ║  ║ └╥┘┌─┐                        \n",
       "  q34_7: ┤ X ├─░──╫──╫──╫──╫──╫──╫──╫─┤M├────────────────────────\n",
       "         ├───┤ ░  ║  ║  ║  ║  ║  ║  ║ └╥┘┌─┐                     \n",
       "  q34_8: ┤ X ├─░──╫──╫──╫──╫──╫──╫──╫──╫─┤M├─────────────────────\n",
       "         ├───┤ ░  ║  ║  ║  ║  ║  ║  ║  ║ └╥┘┌─┐                  \n",
       "  q34_9: ┤ X ├─░──╫──╫──╫──╫──╫──╫──╫──╫──╫─┤M├──────────────────\n",
       "         ├───┤ ░  ║  ║  ║  ║  ║  ║  ║  ║  ║ └╥┘┌─┐               \n",
       " q34_10: ┤ X ├─░──╫──╫──╫──╫──╫──╫──╫──╫──╫──╫─┤M├───────────────\n",
       "         ├───┤ ░  ║  ║  ║  ║  ║  ║  ║  ║  ║  ║ └╥┘┌─┐            \n",
       " q34_11: ┤ X ├─░──╫──╫──╫──╫──╫──╫──╫──╫──╫──╫──╫─┤M├────────────\n",
       "         ├───┤ ░  ║  ║  ║  ║  ║  ║  ║  ║  ║  ║  ║ └╥┘┌─┐         \n",
       " q34_12: ┤ X ├─░──╫──╫──╫──╫──╫──╫──╫──╫──╫──╫──╫──╫─┤M├─────────\n",
       "         ├───┤ ░  ║  ║  ║  ║  ║  ║  ║  ║  ║  ║  ║  ║ └╥┘┌─┐      \n",
       " q34_13: ┤ X ├─░──╫──╫──╫──╫──╫──╫──╫──╫──╫──╫──╫──╫──╫─┤M├──────\n",
       "         └───┘ ░  ║  ║  ║  ║  ║  ║  ║  ║  ║  ║  ║  ║  ║ └╥┘┌─┐   \n",
       " q34_14: ──────░──╫──╫──╫──╫──╫──╫──╫──╫──╫──╫──╫──╫──╫──╫─┤M├───\n",
       "               ░  ║  ║  ║  ║  ║  ║  ║  ║  ║  ║  ║  ║  ║  ║ └╥┘┌─┐\n",
       " q34_15: ──────░──╫──╫──╫──╫──╫──╫──╫──╫──╫──╫──╫──╫──╫──╫──╫─┤M├\n",
       "               ░  ║  ║  ║  ║  ║  ║  ║  ║  ║  ║  ║  ║  ║  ║  ║ └╥┘\n",
       "meas: 16/═════════╩══╩══╩══╩══╩══╩══╩══╩══╩══╩══╩══╩══╩══╩══╩══╩═\n",
       "                  0  1  2  3  4  5  6  7  8  9  10 11 12 13 14 15"
      ]
     },
     "execution_count": 86,
     "metadata": {},
     "output_type": "execute_result"
    }
   ],
   "source": [
    "qr = QuantumRegister(16)\n",
    "cr = ClassicalRegister(16)\n",
    "qc = QuantumCircuit(qr,cr)\n",
    "qc = circuit\n",
    "qc.measure_all()\n",
    "qc.draw()"
   ]
  },
  {
   "cell_type": "code",
   "execution_count": 87,
   "metadata": {},
   "outputs": [],
   "source": [
    "def execute_circuit(qc, shots=1024, device=None):\n",
    "    if device is None:\n",
    "        device = Aer.get_backend('qasm_simulator')\n",
    "    else:\n",
    "        device = device\n",
    "    \n",
    "    circ_trans = transpile(qc,device)\n",
    "    counts = device.run(circ_trans, shots=shots).result().get_counts()\n",
    "    \n",
    "    return counts"
   ]
  },
  {
   "cell_type": "code",
   "execution_count": 88,
   "metadata": {},
   "outputs": [],
   "source": [
    "hist = execute_circuit(qc)"
   ]
  },
  {
   "cell_type": "code",
   "execution_count": 89,
   "metadata": {},
   "outputs": [],
   "source": [
    "def basis_states_probs(counts, shots=1024, n_qubits=1):\n",
    "   probs = []\n",
    "   basis_states = [np.binary_repr(i,width=n_qubits) for i in range(2**n_qubits)]\n",
    "\n",
    "   for b in basis_states:\n",
    "      c = counts.get(b)\n",
    "      if c is None:\n",
    "         probs.append(0)\n",
    "      else:\n",
    "         probs.append(counts[b]/shots)\n",
    "   return probs"
   ]
  },
  {
   "cell_type": "code",
   "execution_count": 90,
   "metadata": {},
   "outputs": [],
   "source": [
    "def decoder(hist):\n",
    "    image = np.zeros((16))\n",
    "    state = list(hist.keys())[0]\n",
    "    y = str(state)\n",
    "    for i,char in enumerate(list(y)):\n",
    "        if int(char) == 0:\n",
    "            image[i] = np.random.uniform(0,0.5)\n",
    "        else:\n",
    "            image[i] = np.random.uniform(0.5,1)\n",
    "    decoded_image = np.reshape(image,(4,4))\n",
    "    decoded_image_denormalized = decoded_image * max_images\n",
    "    final_image = np.resize(decoded_image_denormalized,(28,28))\n",
    "    return final_image"
   ]
  },
  {
   "cell_type": "code",
   "execution_count": 104,
   "metadata": {},
   "outputs": [
    {
     "data": {
      "text/plain": [
       "<matplotlib.image.AxesImage at 0x2342950bca0>"
      ]
     },
     "execution_count": 104,
     "metadata": {},
     "output_type": "execute_result"
    },
    {
     "data": {
      "image/png": "[encoded data removed]",
      "text/plain": [
       "<Figure size 640x480 with 1 Axes>"
      ]
     },
     "metadata": {},
     "output_type": "display_data"
    }
   ],
   "source": [
    "image = decoder(hist)\n",
    "plt.imshow(image)"
   ]
  },
  {
   "cell_type": "code",
   "execution_count": 101,
   "metadata": {},
   "outputs": [],
   "source": [
    "decoded_image = decoder(hist)"
   ]
  },
  {
   "cell_type": "code",
   "execution_count": 114,
   "metadata": {},
   "outputs": [
    {
     "name": "stdout",
     "output_type": "stream",
     "text": [
      "3.582756375356999e-06\n"
     ]
    }
   ],
   "source": [
    "print(image_mse(np.random.random((28,28))*max_images,images[100]))"
   ]
  },
  {
   "cell_type": "code",
   "execution_count": 20,
   "metadata": {},
   "outputs": [],
   "source": [
    "from sklearn.metrics import mean_squared_error"
   ]
  },
  {
   "cell_type": "code",
   "execution_count": 21,
   "metadata": {},
   "outputs": [],
   "source": [
    "def image_mse(image1,image2):\n",
    "    # Using sklearns mean squared error:\n",
    "    # https://scikit-learn.org/stable/modules/generated/sklearn.metrics.mean_squared_error.html\n",
    "    return mean_squared_error(image1, image2)"
   ]
  },
  {
   "cell_type": "code",
   "execution_count": 99,
   "metadata": {},
   "outputs": [],
   "source": [
    "def add_measurements(circuit):\n",
    "    qr = QuantumRegister(16)\n",
    "    cr = ClassicalRegister(16)\n",
    "    qc = QuantumCircuit(qr,cr)\n",
    "    qc = circuit\n",
    "    qc.measure_all()\n",
    "    return qc"
   ]
  },
  {
   "cell_type": "code",
   "execution_count": 103,
   "metadata": {},
   "outputs": [
    {
     "name": "stdout",
     "output_type": "stream",
     "text": [
      "0.9933702109824315\n"
     ]
    }
   ],
   "source": [
    "#grade part1\n",
    "\n",
    "n=len(images_resized_normalized)\n",
    "mse=0\n",
    "gatecount=0\n",
    "\n",
    "for i in range(len(images_resized_normalized)):\n",
    "    #encode image into circuit\n",
    "    circuit=encoder_v2(images_resized_normalized[i],0.5)\n",
    "\n",
    "    #Add measurements\n",
    "    circuit = add_measurements(circuit)\n",
    "    \n",
    "    #simulate circuit\n",
    "    histogram=execute_circuit(circuit)\n",
    "    \n",
    "    #reconstruct the image\n",
    "    image_re=decoder(histogram)\n",
    "    \n",
    "    #calculate mse\n",
    "    mse+=image_mse(images[i],image_re)\n",
    "    \n",
    "#fidelity of reconstruction\n",
    "f=1-mse\n",
    "gatecount=gatecount/n\n",
    "\n",
    "#score for part1 \n",
    "print(f*(0.999**gatecount))"
   ]
  },
  {
   "cell_type": "code",
   "execution_count": 95,
   "metadata": {},
   "outputs": [
    {
     "data": {
      "text/plain": [
       "2000"
      ]
     },
     "execution_count": 95,
     "metadata": {},
     "output_type": "execute_result"
    }
   ],
   "source": []
  },
  {
   "cell_type": "code",
   "execution_count": null,
   "metadata": {},
   "outputs": [],
   "source": []
  }
 ],
 "metadata": {
  "kernelspec": {
   "display_name": "Python 3",
   "language": "python",
   "name": "python3"
  },
  "language_info": {
   "codemirror_mode": {
    "name": "ipython",
    "version": 3
   },
   "file_extension": ".py",
   "mimetype": "text/x-python",
   "name": "python",
   "nbconvert_exporter": "python",
   "pygments_lexer": "ipython3",
   "version": "3.10.6"
  },
  "orig_nbformat": 4,
  "vscode": {
   "interpreter": {
    "hash": "6e3977c52f5249dbc2a33b897faad1e0916758085298811edbd14ed6ad707d81"
   }
  }
 },
 "nbformat": 4,
 "nbformat_minor": 2
}
